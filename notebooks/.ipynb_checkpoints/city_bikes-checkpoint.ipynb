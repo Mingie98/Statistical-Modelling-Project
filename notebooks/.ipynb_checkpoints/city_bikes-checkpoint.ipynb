{
 "cells": [
  {
   "cell_type": "markdown",
   "metadata": {
    "tags": []
   },
   "source": [
    "# CityBikes"
   ]
  },
  {
   "cell_type": "markdown",
   "metadata": {},
   "source": [
    "Send a request to CityBikes for the city of your choice. "
   ]
  },
  {
   "cell_type": "code",
   "execution_count": 1,
   "metadata": {
    "tags": []
   },
   "outputs": [],
   "source": [
    "import requests\n",
    "import pandas as pd"
   ]
  },
  {
   "cell_type": "code",
   "execution_count": 2,
   "metadata": {
    "tags": []
   },
   "outputs": [
    {
     "data": {
      "text/plain": [
       "200"
      ]
     },
     "execution_count": 2,
     "metadata": {},
     "output_type": "execute_result"
    }
   ],
   "source": [
    "response = requests.get(\"http://api.citybik.es/v2/networks/bixi\")\n",
    "response.status_code"
   ]
  },
  {
   "cell_type": "code",
   "execution_count": null,
   "metadata": {
    "tags": []
   },
   "outputs": [],
   "source": [
    "response.json()"
   ]
  },
  {
   "cell_type": "markdown",
   "metadata": {},
   "source": [
    "Parse through the response to get the details you want for the bike stations in that city (latitude, longitude, number of bikes). "
   ]
  },
  {
   "cell_type": "code",
   "execution_count": null,
   "metadata": {
    "tags": []
   },
   "outputs": [],
   "source": [
    "bixi_data = response.json()\n",
    "stations_data = bixi_data['network']['stations']\n",
    "\n",
    "#placeholder for information that will be collected in the the for loop below\n",
    "station_info = []\n",
    "\n",
    "#iterating over all the stations in bixi_data and getting the relevant info\n",
    "for station in stations_data:\n",
    "    info = {\n",
    "        \"name\": station[\"name\"],\n",
    "        \"latitude\": station[\"latitude\"],\n",
    "        \"longitude\": station[\"longitude\"],\n",
    "        \"number_of_bikes_avail\": station[\"free_bikes\"],\n",
    "    }\n",
    "    station_info.append(info)\n",
    "\n",
    "station_info"
   ]
  },
  {
   "cell_type": "markdown",
   "metadata": {},
   "source": [
    "Put your parsed results into a DataFrame."
   ]
  },
  {
   "cell_type": "code",
   "execution_count": 11,
   "metadata": {
    "tags": []
   },
   "outputs": [
    {
     "data": {
      "text/html": [
       "<div>\n",
       "<style scoped>\n",
       "    .dataframe tbody tr th:only-of-type {\n",
       "        vertical-align: middle;\n",
       "    }\n",
       "\n",
       "    .dataframe tbody tr th {\n",
       "        vertical-align: top;\n",
       "    }\n",
       "\n",
       "    .dataframe thead th {\n",
       "        text-align: right;\n",
       "    }\n",
       "</style>\n",
       "<table border=\"1\" class=\"dataframe\">\n",
       "  <thead>\n",
       "    <tr style=\"text-align: right;\">\n",
       "      <th></th>\n",
       "      <th>name</th>\n",
       "      <th>latitude</th>\n",
       "      <th>longitude</th>\n",
       "      <th>number_of_bikes_avail</th>\n",
       "    </tr>\n",
       "  </thead>\n",
       "  <tbody>\n",
       "    <tr>\n",
       "      <th>0</th>\n",
       "      <td>Gare d'autocars de Montréal (Berri / Ontario)</td>\n",
       "      <td>45.516926</td>\n",
       "      <td>-73.564257</td>\n",
       "      <td>13</td>\n",
       "    </tr>\n",
       "    <tr>\n",
       "      <th>1</th>\n",
       "      <td>Marché Maisonneuve</td>\n",
       "      <td>45.553219</td>\n",
       "      <td>-73.539782</td>\n",
       "      <td>12</td>\n",
       "    </tr>\n",
       "    <tr>\n",
       "      <th>2</th>\n",
       "      <td>Rachel / de Brébeuf</td>\n",
       "      <td>45.526890</td>\n",
       "      <td>-73.572640</td>\n",
       "      <td>2</td>\n",
       "    </tr>\n",
       "    <tr>\n",
       "      <th>3</th>\n",
       "      <td>Bibliothèque d'Ahuntsic (Lajeunesse / Fleury)</td>\n",
       "      <td>45.553400</td>\n",
       "      <td>-73.662255</td>\n",
       "      <td>6</td>\n",
       "    </tr>\n",
       "    <tr>\n",
       "      <th>4</th>\n",
       "      <td>Cité des Arts du Cirque (Paul Boutet / des Reg...</td>\n",
       "      <td>45.559842</td>\n",
       "      <td>-73.615447</td>\n",
       "      <td>16</td>\n",
       "    </tr>\n",
       "    <tr>\n",
       "      <th>5</th>\n",
       "      <td>Omer-Lavallée / du Midway</td>\n",
       "      <td>45.545776</td>\n",
       "      <td>-73.562175</td>\n",
       "      <td>2</td>\n",
       "    </tr>\n",
       "    <tr>\n",
       "      <th>6</th>\n",
       "      <td>Papineau / Émile-Journault</td>\n",
       "      <td>45.559884</td>\n",
       "      <td>-73.633568</td>\n",
       "      <td>16</td>\n",
       "    </tr>\n",
       "    <tr>\n",
       "      <th>7</th>\n",
       "      <td>CHSLD St-Michel (8e avenue / Jarry)</td>\n",
       "      <td>45.561690</td>\n",
       "      <td>-73.610512</td>\n",
       "      <td>5</td>\n",
       "    </tr>\n",
       "    <tr>\n",
       "      <th>8</th>\n",
       "      <td>Chabanel / du Parc</td>\n",
       "      <td>45.538308</td>\n",
       "      <td>-73.654884</td>\n",
       "      <td>11</td>\n",
       "    </tr>\n",
       "    <tr>\n",
       "      <th>9</th>\n",
       "      <td>Métro Henri-Bourassa (Henri-Bourassa / Millen)</td>\n",
       "      <td>45.556751</td>\n",
       "      <td>-73.667162</td>\n",
       "      <td>13</td>\n",
       "    </tr>\n",
       "  </tbody>\n",
       "</table>\n",
       "</div>"
      ],
      "text/plain": [
       "                                                name   latitude  longitude  \\\n",
       "0      Gare d'autocars de Montréal (Berri / Ontario)  45.516926 -73.564257   \n",
       "1                                 Marché Maisonneuve  45.553219 -73.539782   \n",
       "2                                Rachel / de Brébeuf  45.526890 -73.572640   \n",
       "3      Bibliothèque d'Ahuntsic (Lajeunesse / Fleury)  45.553400 -73.662255   \n",
       "4  Cité des Arts du Cirque (Paul Boutet / des Reg...  45.559842 -73.615447   \n",
       "5                          Omer-Lavallée / du Midway  45.545776 -73.562175   \n",
       "6                         Papineau / Émile-Journault  45.559884 -73.633568   \n",
       "7                CHSLD St-Michel (8e avenue / Jarry)  45.561690 -73.610512   \n",
       "8                                 Chabanel / du Parc  45.538308 -73.654884   \n",
       "9     Métro Henri-Bourassa (Henri-Bourassa / Millen)  45.556751 -73.667162   \n",
       "\n",
       "   number_of_bikes_avail  \n",
       "0                     13  \n",
       "1                     12  \n",
       "2                      2  \n",
       "3                      6  \n",
       "4                     16  \n",
       "5                      2  \n",
       "6                     16  \n",
       "7                      5  \n",
       "8                     11  \n",
       "9                     13  "
      ]
     },
     "execution_count": 11,
     "metadata": {},
     "output_type": "execute_result"
    }
   ],
   "source": [
    "df = pd.DataFrame(station_info)\n",
    "df.head(10)"
   ]
  },
  {
   "cell_type": "code",
   "execution_count": 13,
   "metadata": {
    "tags": []
   },
   "outputs": [
    {
     "data": {
      "text/html": [
       "<div>\n",
       "<style scoped>\n",
       "    .dataframe tbody tr th:only-of-type {\n",
       "        vertical-align: middle;\n",
       "    }\n",
       "\n",
       "    .dataframe tbody tr th {\n",
       "        vertical-align: top;\n",
       "    }\n",
       "\n",
       "    .dataframe thead th {\n",
       "        text-align: right;\n",
       "    }\n",
       "</style>\n",
       "<table border=\"1\" class=\"dataframe\">\n",
       "  <thead>\n",
       "    <tr style=\"text-align: right;\">\n",
       "      <th></th>\n",
       "      <th>name</th>\n",
       "      <th>latitude</th>\n",
       "      <th>longitude</th>\n",
       "      <th>number_of_bikes_avail</th>\n",
       "    </tr>\n",
       "  </thead>\n",
       "  <tbody>\n",
       "    <tr>\n",
       "      <th>0</th>\n",
       "      <td>Gare d'autocars de Montréal (Berri / Ontario)</td>\n",
       "      <td>45.516926</td>\n",
       "      <td>-73.564257</td>\n",
       "      <td>13</td>\n",
       "    </tr>\n",
       "    <tr>\n",
       "      <th>1</th>\n",
       "      <td>Marché Maisonneuve</td>\n",
       "      <td>45.553219</td>\n",
       "      <td>-73.539782</td>\n",
       "      <td>12</td>\n",
       "    </tr>\n",
       "    <tr>\n",
       "      <th>2</th>\n",
       "      <td>Rachel / de Brébeuf</td>\n",
       "      <td>45.526890</td>\n",
       "      <td>-73.572640</td>\n",
       "      <td>2</td>\n",
       "    </tr>\n",
       "    <tr>\n",
       "      <th>3</th>\n",
       "      <td>Bibliothèque d'Ahuntsic (Lajeunesse / Fleury)</td>\n",
       "      <td>45.553400</td>\n",
       "      <td>-73.662255</td>\n",
       "      <td>6</td>\n",
       "    </tr>\n",
       "    <tr>\n",
       "      <th>4</th>\n",
       "      <td>Cité des Arts du Cirque (Paul Boutet / des Reg...</td>\n",
       "      <td>45.559842</td>\n",
       "      <td>-73.615447</td>\n",
       "      <td>16</td>\n",
       "    </tr>\n",
       "    <tr>\n",
       "      <th>...</th>\n",
       "      <td>...</td>\n",
       "      <td>...</td>\n",
       "      <td>...</td>\n",
       "      <td>...</td>\n",
       "    </tr>\n",
       "    <tr>\n",
       "      <th>155</th>\n",
       "      <td>Métro Atwater (Atwater / Ste-Catherine)</td>\n",
       "      <td>45.489525</td>\n",
       "      <td>-73.584458</td>\n",
       "      <td>10</td>\n",
       "    </tr>\n",
       "    <tr>\n",
       "      <th>156</th>\n",
       "      <td>Complexe Desjardins (St-Urbain / René-Lévesque)</td>\n",
       "      <td>45.507885</td>\n",
       "      <td>-73.563151</td>\n",
       "      <td>30</td>\n",
       "    </tr>\n",
       "    <tr>\n",
       "      <th>157</th>\n",
       "      <td>de Maisonneuve / Mackay</td>\n",
       "      <td>45.496496</td>\n",
       "      <td>-73.578704</td>\n",
       "      <td>0</td>\n",
       "    </tr>\n",
       "    <tr>\n",
       "      <th>158</th>\n",
       "      <td>du Mont-Royal / de Brébeuf</td>\n",
       "      <td>45.529337</td>\n",
       "      <td>-73.577953</td>\n",
       "      <td>4</td>\n",
       "    </tr>\n",
       "    <tr>\n",
       "      <th>159</th>\n",
       "      <td>Ste-Catherine / Union</td>\n",
       "      <td>45.503738</td>\n",
       "      <td>-73.569485</td>\n",
       "      <td>13</td>\n",
       "    </tr>\n",
       "  </tbody>\n",
       "</table>\n",
       "<p>160 rows × 4 columns</p>\n",
       "</div>"
      ],
      "text/plain": [
       "                                                  name   latitude  longitude  \\\n",
       "0        Gare d'autocars de Montréal (Berri / Ontario)  45.516926 -73.564257   \n",
       "1                                   Marché Maisonneuve  45.553219 -73.539782   \n",
       "2                                  Rachel / de Brébeuf  45.526890 -73.572640   \n",
       "3        Bibliothèque d'Ahuntsic (Lajeunesse / Fleury)  45.553400 -73.662255   \n",
       "4    Cité des Arts du Cirque (Paul Boutet / des Reg...  45.559842 -73.615447   \n",
       "..                                                 ...        ...        ...   \n",
       "155            Métro Atwater (Atwater / Ste-Catherine)  45.489525 -73.584458   \n",
       "156    Complexe Desjardins (St-Urbain / René-Lévesque)  45.507885 -73.563151   \n",
       "157                            de Maisonneuve / Mackay  45.496496 -73.578704   \n",
       "158                         du Mont-Royal / de Brébeuf  45.529337 -73.577953   \n",
       "159                              Ste-Catherine / Union  45.503738 -73.569485   \n",
       "\n",
       "     number_of_bikes_avail  \n",
       "0                       13  \n",
       "1                       12  \n",
       "2                        2  \n",
       "3                        6  \n",
       "4                       16  \n",
       "..                     ...  \n",
       "155                     10  \n",
       "156                     30  \n",
       "157                      0  \n",
       "158                      4  \n",
       "159                     13  \n",
       "\n",
       "[160 rows x 4 columns]"
      ]
     },
     "execution_count": 13,
     "metadata": {},
     "output_type": "execute_result"
    }
   ],
   "source": [
    "df"
   ]
  },
  {
   "cell_type": "code",
   "execution_count": null,
   "metadata": {},
   "outputs": [],
   "source": [
    "response = requests.get(\"http://api.citybik.es/v2/networks/bixi\")\n",
    "response.status_code"
   ]
  }
 ],
 "metadata": {
  "kernelspec": {
   "display_name": "test_env",
   "language": "python",
   "name": "test_env"
  },
  "language_info": {
   "codemirror_mode": {
    "name": "ipython",
    "version": 3
   },
   "file_extension": ".py",
   "mimetype": "text/x-python",
   "name": "python",
   "nbconvert_exporter": "python",
   "pygments_lexer": "ipython3",
   "version": "3.9.18"
  }
 },
 "nbformat": 4,
 "nbformat_minor": 4
}
